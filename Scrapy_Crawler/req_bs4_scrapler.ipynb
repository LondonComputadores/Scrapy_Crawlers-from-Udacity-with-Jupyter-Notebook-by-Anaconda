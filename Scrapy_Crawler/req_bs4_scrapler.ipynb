{
 "cells": [
  {
   "cell_type": "code",
   "execution_count": 1,
   "metadata": {},
   "outputs": [
    {
     "data": {
      "text/plain": [
       "b'<!DOCTYPE html>\\n<html xmlns=\"http://www.w3.org/1999/xhtml\" lang=\"en\">\\n<head>\\n\\n  <meta charset=\"utf-8\">\\n  <meta name=\"viewport\" content=\"width=device-width, initial-scale=1.0\"> \\n\\n  <title>PHP: URL Howto</title>\\n\\n <link rel=\"shortcut icon\" href=\"http://php.net/favicon.ico\">\\n <link rel=\"search\" type=\"application/opensearchdescription+xml\" href=\"http://php.net/phpnetimprovedsearch.src\" title=\"Add PHP.net search\">\\n <link rel=\"alternate\" type=\"application/atom+xml\" href=\"http://php.net/releases/feed.php\" title=\"PHP Release feed\">\\n <link rel=\"alternate\" type=\"application/atom+xml\" href=\"http://php.net/feed.atom\" title=\"PHP: Hypertext Preprocessor\">\\n\\n <link rel=\"canonical\" href=\"http://php.net/urlhowto.php\">\\n <link rel=\"shorturl\" href=\"http://php.net/urlhowto\">\\n <link rel=\"alternate\" href=\"http://php.net/urlhowto\" hreflang=\"x-default\">\\n\\n\\n\\n<link rel=\"stylesheet\" type=\"text/css\" href=\"http://php.net/cached.php?t=1421837618&amp;f=/fonts/Fira/fira.css\" media=\"screen\">\\n<link rel=\"stylesheet\" type=\"text/css\" href=\"http://php.net/cached.php?t=1421837618&amp;f=/fonts/Font-Awesome/css/fontello.css\" media=\"screen\">\\n<link rel=\"stylesheet\" type=\"text/css\" href=\"http://php.net/cached.php?t=1478800802&amp;f=/styles/theme-base.css\" media=\"screen\">\\n<link rel=\"stylesheet\" type=\"text/css\" href=\"http://php.net/cached.php?t=1521070803&amp;f=/styles/theme-medium.css\" media=\"screen\">\\n\\n <!--[if lte IE 7]>\\n <link rel=\"stylesheet\" type=\"text/css\" href=\"http://php.net/styles/workarounds.ie7.css\" media=\"screen\">\\n <![endif]-->\\n\\n <!--[if lte IE 8]>\\n <script type=\"text/javascript\">\\n  window.brokenIE = true;\\n </script>\\n <![endif]-->\\n\\n <!--[if lte IE 9]>\\n <link rel=\"stylesheet\" type=\"text/css\" href=\"http://php.net/styles/workarounds.ie9.css\" media=\"screen\">\\n <![endif]-->\\n\\n <!--[if IE]>\\n <script type=\"text/javascript\" src=\"http://php.net/js/ext/html5.js\"></script>\\n <![endif]-->\\n\\n <base href=\"http://php.net/urlhowto.php\">\\n\\n</head>\\n<body class=\"help \">\\n\\n<nav id=\"head-nav\" class=\"navbar navbar-fixed-top\">\\n  <div class=\"navbar-inner clearfix\">\\n    <a href=\"/\" class=\"brand\"><img src=\"/images/logos/php-logo.svg\" width=\"48\" height=\"24\" alt=\"php\"></a>\\n    <div id=\"mainmenu-toggle-overlay\"></div>\\n    <input type=\"checkbox\" id=\"mainmenu-toggle\">\\n    <ul class=\"nav\">\\n      <li class=\"\"><a href=\"/downloads\">Downloads</a></li>\\n      <li class=\"\"><a href=\"/docs.php\">Documentation</a></li>\\n      <li class=\"\"><a href=\"/get-involved\" >Get Involved</a></li>\\n      <li class=\"active\"><a href=\"/support\">Help</a></li>\\n    </ul>\\n    <form class=\"navbar-search\" id=\"topsearch\" action=\"/search.php\">\\n      <input type=\"hidden\" name=\"show\" value=\"quickref\">\\n      <input type=\"search\" name=\"pattern\" class=\"search-query\" placeholder=\"Search\" accesskey=\"s\">\\n    </form>\\n  </div>\\n  <div id=\"flash-message\"></div>\\n</nav>\\n<nav id=\"trick\"><div><dl>\\n<dt><a href=\\'/manual/en/getting-started.php\\'>Getting Started</a></dt>\\n\\t<dd><a href=\\'/manual/en/introduction.php\\'>Introduction</a></dd>\\n\\t<dd><a href=\\'/manual/en/tutorial.php\\'>A simple tutorial</a></dd>\\n<dt><a href=\\'/manual/en/langref.php\\'>Language Reference</a></dt>\\n\\t<dd><a href=\\'/manual/en/language.basic-syntax.php\\'>Basic syntax</a></dd>\\n\\t<dd><a href=\\'/manual/en/language.types.php\\'>Types</a></dd>\\n\\t<dd><a href=\\'/manual/en/language.variables.php\\'>Variables</a></dd>\\n\\t<dd><a href=\\'/manual/en/language.constants.php\\'>Constants</a></dd>\\n\\t<dd><a href=\\'/manual/en/language.expressions.php\\'>Expressions</a></dd>\\n\\t<dd><a href=\\'/manual/en/language.operators.php\\'>Operators</a></dd>\\n\\t<dd><a href=\\'/manual/en/language.control-structures.php\\'>Control Structures</a></dd>\\n\\t<dd><a href=\\'/manual/en/language.functions.php\\'>Functions</a></dd>\\n\\t<dd><a href=\\'/manual/en/language.oop5.php\\'>Classes and Objects</a></dd>\\n\\t<dd><a href=\\'/manual/en/language.namespaces.php\\'>Namespaces</a></dd>\\n\\t<dd><a href=\\'/manual/en/language.errors.php\\'>Errors</a></dd>\\n\\t<dd><a href=\\'/manual/en/language.exceptions.php\\'>Exceptions</a></dd>\\n\\t<dd><a href=\\'/manual/en/language.generators.php\\'>Generators</a></dd>\\n\\t<dd><a href=\\'/manual/en/language.references.php\\'>References Explained</a></dd>\\n\\t<dd><a href=\\'/manual/en/reserved.variables.php\\'>Predefined Variables</a></dd>\\n\\t<dd><a href=\\'/manual/en/reserved.exceptions.php\\'>Predefined Exceptions</a></dd>\\n\\t<dd><a href=\\'/manual/en/reserved.interfaces.php\\'>Predefined Interfaces and Classes</a></dd>\\n\\t<dd><a href=\\'/manual/en/context.php\\'>Context options and parameters</a></dd>\\n\\t<dd><a href=\\'/manual/en/wrappers.php\\'>Supported Protocols and Wrappers</a></dd>\\n</dl>\\n<dl>\\n<dt><a href=\\'/manual/en/security.php\\'>Security</a></dt>\\n\\t<dd><a href=\\'/manual/en/security.intro.php\\'>Introduction</a></dd>\\n\\t<dd><a href=\\'/manual/en/security.general.php\\'>General considerations</a></dd>\\n\\t<dd><a href=\\'/manual/en/security.cgi-bin.php\\'>Installed as CGI binary</a></dd>\\n\\t<dd><a href=\\'/manual/en/security.apache.php\\'>Installed as an Apache module</a></dd>\\n\\t<dd><a href=\\'/manual/en/security.sessions.php\\'>Session Security</a></dd>\\n\\t<dd><a href=\\'/manual/en/security.filesystem.php\\'>Filesystem Security</a></dd>\\n\\t<dd><a href=\\'/manual/en/security.database.php\\'>Database Security</a></dd>\\n\\t<dd><a href=\\'/manual/en/security.errors.php\\'>Error Reporting</a></dd>\\n\\t<dd><a href=\\'/manual/en/security.globals.php\\'>Using Register Globals</a></dd>\\n\\t<dd><a href=\\'/manual/en/security.variables.php\\'>User Submitted Data</a></dd>\\n\\t<dd><a href=\\'/manual/en/security.magicquotes.php\\'>Magic Quotes</a></dd>\\n\\t<dd><a href=\\'/manual/en/security.hiding.php\\'>Hiding PHP</a></dd>\\n\\t<dd><a href=\\'/manual/en/security.current.php\\'>Keeping Current</a></dd>\\n<dt><a href=\\'/manual/en/features.php\\'>Features</a></dt>\\n\\t<dd><a href=\\'/manual/en/features.http-auth.php\\'>HTTP authentication with PHP</a></dd>\\n\\t<dd><a href=\\'/manual/en/features.cookies.php\\'>Cookies</a></dd>\\n\\t<dd><a href=\\'/manual/en/features.sessions.php\\'>Sessions</a></dd>\\n\\t<dd><a href=\\'/manual/en/features.xforms.php\\'>Dealing with XForms</a></dd>\\n\\t<dd><a href=\\'/manual/en/features.file-upload.php\\'>Handling file uploads</a></dd>\\n\\t<dd><a href=\\'/manual/en/features.remote-files.php\\'>Using remote files</a></dd>\\n\\t<dd><a href=\\'/manual/en/features.connection-handling.php\\'>Connection handling</a></dd>\\n\\t<dd><a href=\\'/manual/en/features.persistent-connections.php\\'>Persistent Database Connections</a></dd>\\n\\t<dd><a href=\\'/manual/en/features.safe-mode.php\\'>Safe Mode</a></dd>\\n\\t<dd><a href=\\'/manual/en/features.commandline.php\\'>Command line usage</a></dd>\\n\\t<dd><a href=\\'/manual/en/features.gc.php\\'>Garbage Collection</a></dd>\\n\\t<dd><a href=\\'/manual/en/features.dtrace.php\\'>DTrace Dynamic Tracing</a></dd>\\n</dl>\\n<dl>\\n<dt><a href=\\'/manual/en/funcref.php\\'>Function Reference</a></dt>\\n\\t<dd><a href=\\'/manual/en/refs.basic.php.php\\'>Affecting PHP\\'s Behaviour</a></dd>\\n\\t<dd><a href=\\'/manual/en/refs.utilspec.audio.php\\'>Audio Formats Manipulation</a></dd>\\n\\t<dd><a href=\\'/manual/en/refs.remote.auth.php\\'>Authentication Services</a></dd>\\n\\t<dd><a href=\\'/manual/en/refs.utilspec.cmdline.php\\'>Command Line Specific Extensions</a></dd>\\n\\t<dd><a href=\\'/manual/en/refs.compression.php\\'>Compression and Archive Extensions</a></dd>\\n\\t<dd><a href=\\'/manual/en/refs.creditcard.php\\'>Credit Card Processing</a></dd>\\n\\t<dd><a href=\\'/manual/en/refs.crypto.php\\'>Cryptography Extensions</a></dd>\\n\\t<dd><a href=\\'/manual/en/refs.database.php\\'>Database Extensions</a></dd>\\n\\t<dd><a href=\\'/manual/en/refs.calendar.php\\'>Date and Time Related Extensions</a></dd>\\n\\t<dd><a href=\\'/manual/en/refs.fileprocess.file.php\\'>File System Related Extensions</a></dd>\\n\\t<dd><a href=\\'/manual/en/refs.international.php\\'>Human Language and Character Encoding Support</a></dd>\\n\\t<dd><a href=\\'/manual/en/refs.utilspec.image.php\\'>Image Processing and Generation</a></dd>\\n\\t<dd><a href=\\'/manual/en/refs.remote.mail.php\\'>Mail Related Extensions</a></dd>\\n\\t<dd><a href=\\'/manual/en/refs.math.php\\'>Mathematical Extensions</a></dd>\\n\\t<dd><a href=\\'/manual/en/refs.utilspec.nontext.php\\'>Non-Text MIME Output</a></dd>\\n\\t<dd><a href=\\'/manual/en/refs.fileprocess.process.php\\'>Process Control Extensions</a></dd>\\n\\t<dd><a href=\\'/manual/en/refs.basic.other.php\\'>Other Basic Extensions</a></dd>\\n\\t<dd><a href=\\'/manual/en/refs.remote.other.php\\'>Other Services</a></dd>\\n\\t<dd><a href=\\'/manual/en/refs.search.php\\'>Search Engine Extensions</a></dd>\\n\\t<dd><a href=\\'/manual/en/refs.utilspec.server.php\\'>Server Specific Extensions</a></dd>\\n\\t<dd><a href=\\'/manual/en/refs.basic.session.php\\'>Session Extensions</a></dd>\\n\\t<dd><a href=\\'/manual/en/refs.basic.text.php\\'>Text Processing</a></dd>\\n\\t<dd><a href=\\'/manual/en/refs.basic.vartype.php\\'>Variable and Type Related Extensions</a></dd>\\n\\t<dd><a href=\\'/manual/en/refs.webservice.php\\'>Web Services</a></dd>\\n\\t<dd><a href=\\'/manual/en/refs.utilspec.windows.php\\'>Windows Only Extensions</a></dd>\\n\\t<dd><a href=\\'/manual/en/refs.xml.php\\'>XML Manipulation</a></dd>\\n\\t<dd><a href=\\'/manual/en/refs.ui.php\\'>GUI Extensions</a></dd>\\n</dl>\\n<dl>\\n<dt>Keyboard Shortcuts</dt><dt>?</dt>\\n<dd>This help</dd>\\n<dt>j</dt>\\n<dd>Next menu item</dd>\\n<dt>k</dt>\\n<dd>Previous menu item</dd>\\n<dt>g p</dt>\\n<dd>Previous man page</dd>\\n<dt>g n</dt>\\n<dd>Next man page</dd>\\n<dt>G</dt>\\n<dd>Scroll to bottom</dd>\\n<dt>g g</dt>\\n<dd>Scroll to top</dd>\\n<dt>g h</dt>\\n<dd>Goto homepage</dd>\\n<dt>g s</dt>\\n<dd>Goto search<br>(current page)</dd>\\n<dt>/</dt>\\n<dd>Focus search box</dd>\\n</dl></div></nav>\\n<div id=\"goto\">\\n    <div class=\"search\">\\n         <div class=\"text\"></div>\\n         <div class=\"results\"><ul></ul></div>\\n   </div>\\n</div>\\n\\n\\n\\n\\n\\n<div id=\"layout\" class=\"clearfix\">\\n  <section id=\"layout-content\">\\n\\n<h1>Navigation tips&tricks</h1>\\n\\n<p>\\n When using the PHP.net website, there is even no need to get to\\n a search box to access the content you would like to see quickly.\\n You can use short PHP.net URLs to access pages directly.\\n</p>\\n\\n<p>\\n Note, that these shortcuts are expected to work on all mirror\\n sites, not just at the main site. If you find that some of these\\n shortcuts are not working on your mirror site, please report them\\n as a \"PHP.net Website Problem\" at\\n <a href=\"http://bugs.php.net/\">http://bugs.php.net/</a>.\\n</p>\\n\\n<p>\\n There are currently three types of URLs you can use this way.\\n</p>\\n\\n<h2>Page shortcuts</h2>\\n\\n<p>\\n If you write in a PHP.net URL (e.g. <kbd>http://php.net/get-involved</kbd>,\\n first this URL is matched against the PHP.net pages. If there is\\n a page named <em>get-involved.php</em>, then you\\'ll get that page\\n immediately. This type of shortcut makes easy to type in a link\\n in an IRC conversation or mailing list message. If the script\\n finds no page with this name, it tries to find a manual page.\\n</p>\\n\\n<h2>Manual shortcuts</h2>\\n\\n<p>\\n If your URL can\\'t be matched with a page name, a manual page\\n is searched for your query. This is the case for the \\n <kbd>http://php.net/preg_match</kbd> URL. The following pages\\n are searched for in the manual:</p>\\n<ul>\\n <li>Chapter pages (e.g. <a href=\"http://php.net/installation\">http://php.net/installation</a>)</li>\\n <li>Reference pages (e.g. <a href=\"http://php.net/imap\">http://php.net/imap</a>)</li>\\n <li>Function pages (e.g. <a href=\"http://php.net/join\">http://php.net/join</a>)</li>\\n <li>Class pages (e.g. <a href=\"http://php.net/dir\">http://php.net/dir</a>)</li>\\n <li>Feature pages (e.g. <a href=\"http://php.net/safe_mode\">http://php.net/safe_mode</a>)</li>\\n <li>Control structure pages (e.g. <a href=\"http://php.net/while\">http://php.net/while</a>)</li>\\n <li>Other language pages (e.g. <a href=\"http://php.net/oop\">http://php.net/oop</a>)</li>\\n</ul>\\n<p>\\n Since there are several manual pages that could potentially match the query\\n (extension, class, function name..) you are encouraged to use their prefix/suffix:\\n</p>\\n<ul>\\n <li>Extension <abbr title=\"Table of Contents\">TOC</abbr>:\\n  <kbd>http://php.net/<var>book.extname</var></kbd>\\n  (e.g. <a href=\"http://php.net/book.dom\">http://php.net/book.dom</a>).\\n </li>\\n <li>Extension intro pages:\\n  <kbd>http://php.net/<var>intro.extname</var></kbd>\\n  (e.g. <a href=\"http://php.net/intro.array\">http://php.net/intro.array</a>).\\n </li>\\n <li>Extension setup <abbr title=\"Table of Contents\">TOC</abbr>:\\n  <kbd>http://php.net/<var>extname.setup</var></kbd>\\n  (e.g. <a href=\"http://php.net/intl.setup\">http://php.net/intl.setup</a>).\\n </li>\\n <li>Extension install chapter:\\n  <kbd>http://php.net/<var>extname.installation</var></kbd>\\n  (e.g. <a href=\"http://php.net/apc.installation\">http://php.net/apc.installation</a>).\\n </li>\\n <li>Extension configuration:\\n  <kbd>http://php.net/<var>extname.configuration</var></kbd>\\n  (e.g. <a href=\"http://php.net/session.configuration\">http://php.net/session.configuration</a>).\\n </li>\\n <li>Extension resources:\\n  <kbd>http://php.net/<var>extname.resources</var></kbd>\\n  (e.g. <a href=\"http://php.net/mysql.resources\">http://php.net/mysql.resources</a>).\\n </li>\\n <li>Extension constants:\\n  <kbd>http://php.net/<var>extname.constants</var></kbd>\\n  (e.g. <a href=\"http://php.net/image.constants\">http://php.net/image.constants</a>).\\n </li>\\n <li>Class synopsis:\\n  <kbd>http://php.net/<var>class.classname</var></kbd>\\n  (e.g. <a href=\"http://php.net/class.xmlreader\">http://php.net/class.xmlreader</a>).\\n </li>\\n <li>Class method:\\n  <kbd>http://php.net/<var>classname.methodname</var></kbd>\\n  (e.g. <a href=\"http://php.net/pdo.query\">http://php.net/pdo.query</a>).\\n </li>\\n <li>Functions:\\n  <kbd>http://php.net/<var>function.functionname</var></kbd>\\n  (e.g. <a href=\"http://php.net/function.strpos\">http://php.net/function.strpos</a>).\\n </li>\\n</ul>\\n\\n<p>\\n This kind of URL will bring up the manual page in \\n <a href=\"/my.php\">your preferred language</a>. You can\\n always override this setting by explicitly providing\\n the language you want to get to. You can embed the language\\n in the URL before the manual search term.\\n <kbd>http://php.net/hu/sort</kbd> will bring up\\n the Hungarian manual page for sort() for example.\\n</p>\\n\\n<h2>Search shortcuts</h2>\\n\\n<p>\\n At last, if there is no PHP page, and there is no manual\\n page matching your query, a search is issued on the site with\\n the query you typed into the URL. An example of this kind\\n of URL is <kbd>http://php.net/<var>search_for_this</var></kbd>.\\n The exact behaviour of this search is affected by\\n <a href=\"/my.php\">your own My PHP.net settings</a>.\\n</p>\\n\\n<h2>PHP Developer shortcuts</h2>\\n<ul>\\n <li>Changelog information: <a href=\"http://php.net/changelog\">http://php.net/changelog</a>\\n  (e.g. latest PHP changelog. php5news = latest PHP 5 NEWS, phptrunknews = latest PHP trunk NEWS)\\n </li>\\n <li>Bugs: <a href=\"http://php.net/42\">http://php.net/42</a>\\n  (any numeric value redirects to said bug # at bugs.php.net)\\n </li>\\n</ul>\\n\\n<h2>Even smarter tricks</h2>\\n\\n<p>\\n We also have shortcut aliases to access some resources more quickly,\\n and with a nice URL. Aliases are translated to their relevant shortcuts\\n before the first step (PHP page search) mentioned above. Some examples\\n of shortcut aliases: <a href=\"http://php.net/whatisphp\">http://php.net/whatisphp</a>,\\n <a href=\"http://php.net/php4news\">http://php.net/php4news</a>. The latter is an external page\\n alias, as it points to a file on the Git server, containing information\\n about changes in PHP. There are also some convenient aliases(e.g.\\n <a href=\"http://php.net/de/phpversion\">http://php.net/de/phpversion</a> which displays the German\\n manual page for the phpversion() function.\\n</p>\\n\\n\\n    </section><!-- layout-content -->\\n    \\n\\n  </div><!-- layout -->\\n         \\n  <footer>\\n    <div class=\"container footer-content\">\\n      <div class=\"row-fluid\">\\n      <ul class=\"footmenu\">\\n        <li><a href=\"/copyright.php\">Copyright &copy; 2001-2018 The PHP Group</a></li>\\n        <li><a href=\"/my.php\">My PHP.net</a></li>\\n        <li><a href=\"/contact.php\">Contact</a></li>\\n        <li><a href=\"/sites.php\">Other PHP.net sites</a></li>\\n        <li><a href=\"/mirrors.php\">Mirror sites</a></li>\\n        <li><a href=\"/privacy.php\">Privacy policy</a></li>\\n      </ul>\\n      </div>\\n    </div>\\n  </footer>\\n\\n    \\n <!-- External and third party libraries. -->\\n <script type=\"text/javascript\" src=\"//ajax.googleapis.com/ajax/libs/jquery/1.10.2/jquery.min.js\"></script>\\n<script type=\"text/javascript\" src=\"http://php.net/cached.php?t=1421837618&amp;f=/js/ext/modernizr.js\"></script>\\n<script type=\"text/javascript\" src=\"http://php.net/cached.php?t=1421837618&amp;f=/js/ext/hogan-2.0.0.min.js\"></script>\\n<script type=\"text/javascript\" src=\"http://php.net/cached.php?t=1421837618&amp;f=/js/ext/typeahead.min.js\"></script>\\n<script type=\"text/javascript\" src=\"http://php.net/cached.php?t=1421837618&amp;f=/js/ext/mousetrap.min.js\"></script>\\n<script type=\"text/javascript\" src=\"http://php.net/cached.php?t=1421837618&amp;f=/js/search.js\"></script>\\n<script type=\"text/javascript\" src=\"http://php.net/cached.php?t=1516300802&amp;f=/js/common.js\"></script>\\n\\n<a id=\"toTop\" href=\"javascript:;\"><span id=\"toTopHover\"></span><img width=\"40\" height=\"40\" alt=\"To Top\" src=\"/images/to-top@2x.png\"></a>\\n\\n</body>\\n</html>\\n\\n'"
      ]
     },
     "execution_count": 1,
     "metadata": {},
     "output_type": "execute_result"
    }
   ],
   "source": [
    "import requests\n",
    "from bs4 import BeautifulSoup\n",
    "\n",
    "r = requests.get(\"http://php.net/urlhowto.php\")\n",
    "c = r.content\n",
    "\n",
    "c"
   ]
  },
  {
   "cell_type": "code",
   "execution_count": 2,
   "metadata": {},
   "outputs": [],
   "source": [
    "soup=BeautifulSoup(c,\"html.parser\")"
   ]
  },
  {
   "cell_type": "code",
   "execution_count": 6,
   "metadata": {},
   "outputs": [],
   "source": [
    "all=soup.find_all(\"h2\",{\"\":\"\"})"
   ]
  },
  {
   "cell_type": "code",
   "execution_count": 7,
   "metadata": {},
   "outputs": [
    {
     "data": {
      "text/plain": [
       "[<h2>Page shortcuts</h2>,\n",
       " <h2>Manual shortcuts</h2>,\n",
       " <h2>Search shortcuts</h2>,\n",
       " <h2>PHP Developer shortcuts</h2>,\n",
       " <h2>Even smarter tricks</h2>]"
      ]
     },
     "execution_count": 7,
     "metadata": {},
     "output_type": "execute_result"
    }
   ],
   "source": [
    "all"
   ]
  },
  {
   "cell_type": "code",
   "execution_count": null,
   "metadata": {},
   "outputs": [],
   "source": [
    "\n"
   ]
  },
  {
   "cell_type": "code",
   "execution_count": null,
   "metadata": {},
   "outputs": [],
   "source": []
  },
  {
   "cell_type": "code",
   "execution_count": null,
   "metadata": {},
   "outputs": [],
   "source": []
  },
  {
   "cell_type": "code",
   "execution_count": null,
   "metadata": {},
   "outputs": [],
   "source": []
  },
  {
   "cell_type": "code",
   "execution_count": null,
   "metadata": {},
   "outputs": [],
   "source": []
  },
  {
   "cell_type": "code",
   "execution_count": null,
   "metadata": {},
   "outputs": [],
   "source": []
  }
 ],
 "metadata": {
  "kernelspec": {
   "display_name": "Python 3",
   "language": "python",
   "name": "python3"
  },
  "language_info": {
   "codemirror_mode": {
    "name": "ipython",
    "version": 3
   },
   "file_extension": ".py",
   "mimetype": "text/x-python",
   "name": "python",
   "nbconvert_exporter": "python",
   "pygments_lexer": "ipython3",
   "version": "3.6.5"
  }
 },
 "nbformat": 4,
 "nbformat_minor": 2
}
